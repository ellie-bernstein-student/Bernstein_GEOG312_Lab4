{
  "cells": [
    {
      "cell_type": "markdown",
      "metadata": {
        "id": "SbacllZ1Qsy0"
      },
      "source": [
        "[![image](https://colab.research.google.com/assets/colab-badge.svg)](https://colab.research.google.com/github/giswqs/geog-312/blob/master/labs/lab_04.ipynb)\n",
        "[![image](https://binder.pangeo.io/badge_logo.svg)](https://gishub.org/geog312-pangeo)\n",
        "\n",
        "**Firstname Lastname**"
      ]
    },
    {
      "cell_type": "code",
      "execution_count": null,
      "metadata": {
        "id": "szhsf7ZBQsy1"
      },
      "outputs": [],
      "source": [
        "from datetime import datetime\n",
        "\n",
        "now = datetime.now()\n",
        "print(f\"Submitted time: {now}\")"
      ]
    },
    {
      "cell_type": "markdown",
      "metadata": {
        "id": "ExwgWwt1Qsy2"
      },
      "source": [
        "## Question 1\n",
        "**Alien Colors # 1:** Imagine an alien was just shot down in a game. Create a variable called `alien_color` and assign it a value of `green, yellow,` or `red`.\n",
        "\n",
        "* Write an if statement to test whether the alien’s color is green. If it is, print a message that the player just earned 5 points.\n",
        "* Write one version of this program that passes the if test and another that fails. (The version that fails will have no output.)"
      ]
    },
    {
      "cell_type": "code",
      "execution_count": 1,
      "metadata": {
        "id": "0XAVpFdvQsy2",
        "colab": {
          "base_uri": "https://localhost:8080/"
        },
        "outputId": "ce86e85d-2a8d-4faf-de18-5472c5460fb3"
      },
      "outputs": [
        {
          "output_type": "stream",
          "name": "stdout",
          "text": [
            "you earned 5 points\n"
          ]
        }
      ],
      "source": [
        "#passes\n",
        "alien_color = \"red\"\n",
        "if alien_color == \"red\":\n",
        "  print(\"you earned 5 points\")\n",
        "\n",
        "#fails\n",
        "if alien_color == \"green\":\n",
        "  print(\"you earned 5 points\")"
      ]
    },
    {
      "cell_type": "markdown",
      "metadata": {
        "id": "PlhoYKk-Qsy2"
      },
      "source": [
        "## Question 2\n",
        "**Alien Colors # 2:** Choose a color for an alien as you did in Question 1, and write an `if-else` chain.\n",
        "\n",
        "* If the alien’s color is green, print a statement that the player just earned 5 points for shooting the alien.\n",
        "* If the alien’s color isn’t green, print a statement that the player just earned 10 points.\n",
        "* Write one version of this program that runs the if block and another that runs the else block."
      ]
    },
    {
      "cell_type": "code",
      "execution_count": 2,
      "metadata": {
        "id": "GKayTpcYQsy3",
        "colab": {
          "base_uri": "https://localhost:8080/"
        },
        "outputId": "1992e266-ae9e-473b-e4ee-3ee6dd955ac0"
      },
      "outputs": [
        {
          "output_type": "stream",
          "name": "stdout",
          "text": [
            "you earned 10 points\n",
            "you earned 5 points for shooting the alien\n"
          ]
        }
      ],
      "source": [
        "alien_color = \"red\"\n",
        "if alien_color == \"green\":\n",
        "  print(\"you earned 5 points for shooting the alien\")\n",
        "else:\n",
        "  print(\"you earned 10 points\")\n",
        "\n",
        "alien_color = \"green\"\n",
        "if alien_color == \"green\":\n",
        "  print(\"you earned 5 points for shooting the alien\")\n",
        "else:\n",
        "  print(\"you earned 10 points\")"
      ]
    },
    {
      "cell_type": "markdown",
      "metadata": {
        "id": "kq2AEdTcQsy3"
      },
      "source": [
        "## Question 3\n",
        "**Alien Colors # 3:** Turn your `if-else` chain from Question 2 into an `if-elif-else` chain.\n",
        "\n",
        "* If the alien is green, print a message that the player earned 5 points.\n",
        "* If the alien is yellow, print a message that the player earned 10 points.\n",
        "* If the alien is red, print a message that the player earned 15 points.\n",
        "* Write three versions of this program, making sure each message is printed for the appropriate color alien."
      ]
    },
    {
      "cell_type": "code",
      "execution_count": 4,
      "metadata": {
        "id": "pTWEsZfTQsy3",
        "colab": {
          "base_uri": "https://localhost:8080/"
        },
        "outputId": "0094c890-f519-46e1-889c-eab1ccc98903"
      },
      "outputs": [
        {
          "output_type": "stream",
          "name": "stdout",
          "text": [
            "you earned 5 points\n",
            "you earned 15 points\n",
            "you earned 10 points\n"
          ]
        }
      ],
      "source": [
        "alien_color = \"green\"\n",
        "if alien_color == \"green\":\n",
        "  print(\"you earned 5 points\")\n",
        "elif alien_color == \"yellow\":\n",
        "  print(\"you earned 10 points\")\n",
        "else:\n",
        "  print(\"you earned 15 points\")\n",
        "\n",
        "alien_color = \"red\"\n",
        "if alien_color == \"green\":\n",
        "  print(\"you earned 5 points\")\n",
        "elif alien_color == \"yellow\":\n",
        "  print(\"you earned 10 points\")\n",
        "else:\n",
        "  print(\"you earned 15 points\")\n",
        "\n",
        "alien_color = \"yellow\"\n",
        "if alien_color == \"green\":\n",
        "  print(\"you earned 5 points\")\n",
        "elif alien_color == \"yellow\":\n",
        "  print(\"you earned 10 points\")\n",
        "else:\n",
        "  print(\"you earned 15 points\")"
      ]
    },
    {
      "cell_type": "markdown",
      "metadata": {
        "id": "EAc7eDBOQsy3"
      },
      "source": [
        "## Question 4\n",
        "**Stages of Life:** Write an `if-elif-else` chain that determines a person’s stage of life. Set a value for the variable `age`, and then:\n",
        "\n",
        "* If the person is less than 2 years old, print a message that the person is a baby.\n",
        "* If the person is at least 2 years old but less than 4, print a message that the person is a toddler.\n",
        "* If the person is at least 4 years old but less than 13, print a message that the person is a kid.\n",
        "* If the person is at least 13 years old but less than 20, print a message that the person is a teenager.\n",
        "* If the person is at least 20 years old but less than 65, print a message that the person is an adult."
      ]
    },
    {
      "cell_type": "code",
      "execution_count": 5,
      "metadata": {
        "id": "n3oarw1YQsy4",
        "colab": {
          "base_uri": "https://localhost:8080/"
        },
        "outputId": "b03a9ab2-8354-4964-d339-3f4b8ab84e77"
      },
      "outputs": [
        {
          "output_type": "stream",
          "name": "stdout",
          "text": [
            "you are a kid\n"
          ]
        }
      ],
      "source": [
        "age = 5\n",
        "if (age<2):\n",
        "  print(\"you are a baby\")\n",
        "elif (age>2) and (age<4):\n",
        "  print(\"you are a toddler\")\n",
        "elif (age>4) and (age<13):\n",
        "  print(\"you are a kid\")\n",
        "elif (age>13) and (age<20):\n",
        "  print(\"you are a teenager\")\n",
        "elif (age>20) and (age<65):\n",
        "  print(\"you are a adult\")"
      ]
    },
    {
      "cell_type": "markdown",
      "metadata": {
        "id": "RVOmboEgQsy4"
      },
      "source": [
        "## Question 5\n",
        "**Favorite Fruit:** Make a list of your favorite fruits, and then write a series of independent `if` statements that check for certain fruits in your list.\n",
        "\n",
        "* Make a list of your three favorite fruits and call it favorite_fruits.\n",
        "* Write five if statements. Each should check whether a certain kind of fruit is in your list. If the fruit is in your list, the if block should print a statement, such as You really like bananas!"
      ]
    },
    {
      "cell_type": "code",
      "execution_count": 7,
      "metadata": {
        "id": "ft5fGfyYQsy4",
        "colab": {
          "base_uri": "https://localhost:8080/"
        },
        "outputId": "fe8827e6-006b-4936-e93f-6990ac8cb7f0"
      },
      "outputs": [
        {
          "output_type": "stream",
          "name": "stdout",
          "text": [
            "You love strawberries\n",
            "You love oranges\n",
            "You love grapes\n"
          ]
        }
      ],
      "source": [
        "favorite_fruits = \"strawberries\", \"oranges\", \"grapes\"\n",
        "for fruit in favorite_fruits:\n",
        "  if fruit == \"strawberries\":\n",
        "    print(\"You love strawberries\")\n",
        "  if fruit == \"blueberries\":\n",
        "    print(\"You love blueberries\")\n",
        "  if fruit == \"oranges\":\n",
        "    print(\"You love oranges\")\n",
        "  if fruit == \"plums\":\n",
        "    print(\"You love plums\")\n",
        "  if fruit == \"grapes\":\n",
        "    print(\"You love grapes\")"
      ]
    },
    {
      "cell_type": "markdown",
      "metadata": {
        "id": "UFervdw2Qsy4"
      },
      "source": [
        "## Question 6\n",
        "**Hello Admin:** Make a list of five or more usernames, including the name `admin`. Imagine you are writing code that will print a greeting to each user after they log in to a website. Loop through the list, and print a greeting to each user:\n",
        "\n",
        "* If the username is 'admin', print a special greeting, such as *Hello admin, would you like to see a status report?*\n",
        "* Otherwise, print a generic greeting, such as *Hello Jaden, thank you for logging in again*."
      ]
    },
    {
      "cell_type": "code",
      "execution_count": 10,
      "metadata": {
        "id": "AazChpW5Qsy4",
        "colab": {
          "base_uri": "https://localhost:8080/"
        },
        "outputId": "d6004a2c-e9b7-4997-86ba-af85cf3959e0"
      },
      "outputs": [
        {
          "output_type": "stream",
          "name": "stdout",
          "text": [
            "Hello Terry, thank you for joining us.\n",
            "Hello Student, thank you for joining us.\n",
            "Hello Teacher, thank you for joining us.\n",
            "Hello Admin. You are in charge. The world is your oyster.\n",
            "Hello Chrissy, thank you for joining us.\n"
          ]
        }
      ],
      "source": [
        "usernames = \"Terry\", \"Student\", \"Teacher\", \"Admin\", \"Chrissy\"\n",
        "for users in usernames:\n",
        "  if users == \"Admin\":\n",
        "    print(\"Hello Admin. You are in charge. The world is your oyster.\")\n",
        "  else:\n",
        "    print(\"Hello\", users + \", thank you for joining us.\")"
      ]
    },
    {
      "cell_type": "markdown",
      "metadata": {
        "id": "gNJxUMuxQsy4"
      },
      "source": [
        "## Question 7\n",
        "**No Users:** Based on Question 6, add an `if` test to make sure the list of users is not empty.\n",
        "\n",
        "* If the list is empty, print the message *We need to find some users!*\n",
        "* Remove all of the usernames from your list, and make sure the correct message is printed."
      ]
    },
    {
      "cell_type": "code",
      "execution_count": 14,
      "metadata": {
        "id": "9Hcbn5NsQsy4",
        "colab": {
          "base_uri": "https://localhost:8080/"
        },
        "outputId": "e197d210-c2ae-4620-a10a-0ceb30ca056f"
      },
      "outputs": [
        {
          "output_type": "stream",
          "name": "stdout",
          "text": [
            "We neeed to find some users!\n"
          ]
        }
      ],
      "source": [
        "usernames = []\n",
        "\n",
        "if usernames:\n",
        "  for users in usernames:\n",
        "    if users == \"Admin\":\n",
        "      print(\"Hello Admin. You are in charge. The world is your oyster.\")\n",
        "    else:\n",
        "      print(\"Hello\", users + \", thank you for joining us.\")\n",
        "else:\n",
        "  print(\"We neeed to find some users!\")"
      ]
    },
    {
      "cell_type": "markdown",
      "metadata": {
        "id": "1ZByoB7gQsy5"
      },
      "source": [
        "## Question 8\n",
        "**Checking Usernames:** Do the following to create a program that simulates how websites ensure that everyone has a unique username.\n",
        "\n",
        "* Make a list of five or more usernames called `current_users`.\n",
        "*  Make another list of five usernames called `new_users`. Make sure one or two of the new usernames are also in the `current_users` list.\n",
        "* Loop through the `new_users` list to see if each new username has already been used. If it has, print a message that the person will need to enter a new username. If a username has not been used, print a message saying that the username is available.\n",
        "* Make sure your comparison is case insensitive. If 'John' has been used, 'JOHN' should not be accepted. (To do this, you’ll need to make a copy of `current_users` containing the lowercase versions of all existing users.)"
      ]
    },
    {
      "cell_type": "code",
      "execution_count": 16,
      "metadata": {
        "id": "Cgr-d2PbQsy5",
        "colab": {
          "base_uri": "https://localhost:8080/"
        },
        "outputId": "8403105e-595e-45d1-d10b-0bb8f88b5358"
      },
      "outputs": [
        {
          "output_type": "stream",
          "name": "stdout",
          "text": [
            "This username is avaliable!\n",
            "This username is avaliable!\n",
            "You will need to input a new username.\n",
            "This username is avaliable!\n",
            "You will need to input a new username.\n"
          ]
        }
      ],
      "source": [
        "current_users = \"Stacy123\", \"Bob_Burgers\", \"HelloWorld\", \"Ellie02\", \"TaylorB\"\n",
        "new_users = \"Barb4Life\", \"Amber_8\", \"Stacy123\", \"ILoveMyDog\", \"Bob_Burgers\"\n",
        "current_users_modified = []\n",
        "new_users_modified = []\n",
        "for x in current_users:\n",
        "  current_users_modified.append(x.lower())\n",
        "for y in new_users:\n",
        "  new_users_modified.append(y.lower())\n",
        "for new in new_users_modified:\n",
        "  if new in current_users_modified:\n",
        "    print(\"You will need to input a new username.\")\n",
        "  else:\n",
        "    print(\"This username is avaliable!\")"
      ]
    },
    {
      "cell_type": "markdown",
      "metadata": {
        "id": "2n8E1JJoQsy5"
      },
      "source": [
        "## Question 9\n",
        "**Ordinal Numbers:** Ordinal numbers indicate their position in a list, such as *1st* or *2nd*. Most ordinal numbers end in *th*, except 1, 2, and 3.\n",
        "\n",
        "* Store the numbers 1 through 9 in a list.\n",
        "* Loop through the list.\n",
        "* Use an `if-elif-else` chain inside the loop to print the proper ordinal ending for each number. Your output should read \"1st 2nd 3rd 4th 5th 6th 7th 8th 9th\", and each result should be on a separate line."
      ]
    },
    {
      "cell_type": "code",
      "execution_count": 17,
      "metadata": {
        "id": "PQzIQvN7Qsy5",
        "colab": {
          "base_uri": "https://localhost:8080/"
        },
        "outputId": "46713614-4311-451e-97e0-bf617a58f9da"
      },
      "outputs": [
        {
          "output_type": "stream",
          "name": "stdout",
          "text": [
            "1st\n",
            "2nd\n",
            "3rd\n",
            "4th\n",
            "5th\n",
            "6th\n",
            "7th\n",
            "8th\n",
            "9th\n"
          ]
        }
      ],
      "source": [
        "ordinal = 1,2,3,4,5,6,7,8,9\n",
        "for x in ordinal:\n",
        "  if x == 1:\n",
        "    print(\"1st\")\n",
        "  elif x == 2:\n",
        "    print(\"2nd\")\n",
        "  elif x == 3:\n",
        "    print(\"3rd\")\n",
        "  elif x == 4:\n",
        "    print(\"4th\")\n",
        "  elif x == 5:\n",
        "    print(\"5th\")\n",
        "  elif x == 6:\n",
        "    print(\"6th\")\n",
        "  elif x == 7:\n",
        "    print(\"7th\")\n",
        "  elif x == 8:\n",
        "    print(\"8th\")\n",
        "  else:\n",
        "    print(\"9th\")"
      ]
    }
  ],
  "metadata": {
    "kernelspec": {
      "display_name": "Python 3 (ipykernel)",
      "language": "python",
      "name": "python3"
    },
    "language_info": {
      "codemirror_mode": {
        "name": "ipython",
        "version": 3
      },
      "file_extension": ".py",
      "mimetype": "text/x-python",
      "name": "python",
      "nbconvert_exporter": "python",
      "pygments_lexer": "ipython3",
      "version": "3.8.10"
    },
    "colab": {
      "provenance": []
    }
  },
  "nbformat": 4,
  "nbformat_minor": 0
}